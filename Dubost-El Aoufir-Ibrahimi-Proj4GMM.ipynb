{
 "cells": [
  {
   "cell_type": "markdown",
   "metadata": {},
   "source": [
    "<center>\n",
    "<a href=\"http://www.insa-toulouse.fr/\" ><img src=\"http://www.math.univ-toulouse.fr/~besse/Wikistat/Images/logo-insa.jpg\" style=\"float:left; max-width: 120px; display: inline\" alt=\"INSA\"/></a> \n",
    "\n",
    "<a href=\"https://github.com/yasmineelaoufir/projet4a\" ><img src=\"https://dyw7ncnq1en5l.cloudfront.net/optim/news/75/75755/-c-github.jpg\" style=\"max-width: 250px; display: inline\"  alt=\"Github\"/></a>\n",
    "\n",
    "<a href=\"http://www.math.univ-toulouse.fr/\" ><img src=\"http://www.math.univ-toulouse.fr/~besse/Wikistat/Images/logo_imt.jpg\" style=\"float:right; max-width: 250px; display: inline\" alt=\"IMT\"/> </a>\n",
    "</center>"
   ]
  },
  {
   "cell_type": "markdown",
   "metadata": {},
   "source": [
    "\n",
    "# Incentive policies to reduce carbon emissions"
   ]
  },
  {
   "cell_type": "markdown",
   "metadata": {},
   "source": [
    "### Authors : Martin DUBOST | Elyasmine ELAOUFIR | Nusaïbah IBRAHIMI |\n",
    "\n",
    "\n",
    "### Tutors : Jessica MARTIN | Anthony REVEILLAC "
   ]
  },
  {
   "cell_type": "code",
   "execution_count": 1,
   "metadata": {},
   "outputs": [],
   "source": [
    "import matplotlib.pyplot as plt\n",
    "import numpy as np\n",
    "import pandas as pd\n",
    "from pylab import *\n",
    "import os\n",
    "import matplotlib.pyplot as plt\n",
    "import scipy.stats as st \n",
    "from scipy.stats import norm\n",
    "import math"
   ]
  },
  {
   "cell_type": "markdown",
   "metadata": {},
   "source": [
    "# Outline  : \n",
    "- Optimisation of a per penalty\n",
    "- Optimisation of p et s per penalty\n",
    "- Choice and effect of the parameters\n",
    "- Final results "
   ]
  },
  {
   "cell_type": "markdown",
   "metadata": {},
   "source": [
    "In this notebook, we have computed the objective functions in their standard form, hence we study the opposite function (to minimize)."
   ]
  },
  {
   "cell_type": "markdown",
   "metadata": {},
   "source": [
    " # 1) Optimization of the company's problem : $a$ "
   ]
  },
  {
   "cell_type": "markdown",
   "metadata": {},
   "source": [
    " ## 1.1) First penalty $P(x)=p \\, (x-B) , \\quad p\\in (0,1)$ :"
   ]
  },
  {
   "cell_type": "markdown",
   "metadata": {},
   "source": [
    "We have an explicit expression of the optimal action $a^*$ (see the scientific article).\n"
   ]
  },
  {
   "cell_type": "code",
   "execution_count": 2,
   "metadata": {},
   "outputs": [],
   "source": [
    "def f1_a (a,x0,p,k):\n",
    "    return p*x0/k"
   ]
  },
  {
   "cell_type": "markdown",
   "metadata": {},
   "source": [
    " ## 1.2) Second penalty  $P(x)=p \\mathbb{1}_{x \\geq B }, \\quad p\\in\\mathbb{R}^*_+ $:"
   ]
  },
  {
   "cell_type": "code",
   "execution_count": 3,
   "metadata": {},
   "outputs": [],
   "source": [
    "# function of the company's problem :\n",
    "def f2_a (a,s,gA,B,x0,p,k):\n",
    "    return np.exp(-gA*(s-k*a**2/2))*(np.exp(gA*p)*(1-norm.cdf(B/x0+a,0,1))+norm.cdf(B/x0+a,0,1))\n"
   ]
  },
  {
   "cell_type": "code",
   "execution_count": 4,
   "metadata": {},
   "outputs": [],
   "source": [
    "#Graph of the company's problem \n",
    "#Computation of the minimum f2_a and the point of the minimum a\n",
    "\n",
    "\n",
    "def plotf2(x,s,gA,B,x0,p,k): # x is the vector of a\n",
    "\n",
    "\n",
    "    y=np.zeros(len(x))      # y is the vector of f2_a()\n",
    "    y = f2_a(x,s,gA,B,x0,p,k)\n",
    "    plt.plot(x,np.log(y))\n",
    "\n",
    "    xlabel('action a')\n",
    "    ylabel(\"company's problem\")\n",
    "    #title(\"Representation of the company's problem : optimization of the action $a$\")\n",
    "\n",
    "    \n",
    "    \n",
    "    # we change the color of the minimum in red\n",
    "    plt.scatter([x[np.argmin(y)]],[np.log(f2_a(x[np.argmin(y)],s,gA,B,x0,p,k))],c = \"red\")\n",
    "    show()   \n",
    "    \n",
    "    print('This simulations is for those values :')\n",
    "    print(\"B =\", B)\n",
    "    print(\"k =\", k)\n",
    "    print(\"p =\", p)\n",
    "    \n",
    "    print('Minimum of the problem =' ,y[np.argmin(y)] )\n",
    "    print('The point of minimum a is ' ,x[np.argmin(y)] )\n",
    "    \n",
    "    \n",
    "    \n",
    "    \n",
    "    # we plot the optimal action $a^*$ depending the penalty $p$\n",
    "    # the parameters k and B are fixed\n",
    "    taille = 10\n",
    "    a_star=[]\n",
    "    p=[]\n",
    "    for pt in range(taille):\n",
    "        x=np.linspace(0,20,1000)\n",
    "        y = f2_a(x,s,gA,B,x0,pt,k)\n",
    "        p.append(pt)\n",
    "        a_star.append(x[np.argmin(y)])\n",
    "\n",
    "    plt.plot(p,a_star)\n",
    "    xlabel('penalty p')\n",
    "    ylabel('Optimal action a*')\n",
    "    title('Optimization of the action in function of the penalty')\n",
    "    show()\n",
    "    print('This simulations is for those values :')\n",
    "    print(\"B =\", B)\n",
    "    print(\"k =\", k)"
   ]
  },
  {
   "cell_type": "code",
   "execution_count": 5,
   "metadata": {},
   "outputs": [],
   "source": [
    "x=np.linspace(0,4,1000) "
   ]
  },
  {
   "cell_type": "code",
   "execution_count": 6,
   "metadata": {},
   "outputs": [
    {
     "data": {
      "image/png": "[encoded data removed]",
      "text/plain": [
       "<Figure size 432x288 with 1 Axes>"
      ]
     },
     "metadata": {},
     "output_type": "display_data"
    },
    {
     "name": "stdout",
     "output_type": "stream",
     "text": [
      "This simulations is for those values :\n",
      "B = 0\n",
      "k = 1\n",
      "p = 1\n",
      "Minimum of the problem = 1.7246778765381183\n",
      "The point of minimum a is  0.3963963963963964\n"
     ]
    },
    {
     "data": {
      "image/png": "[encoded data removed]",
      "text/plain": [
       "<Figure size 432x288 with 1 Axes>"
      ]
     },
     "metadata": {},
     "output_type": "display_data"
    },
    {
     "name": "stdout",
     "output_type": "stream",
     "text": [
      "This simulations is for those values :\n",
      "B = 0\n",
      "k = 1\n"
     ]
    }
   ],
   "source": [
    "# we fixed these parameters arbitrarly\n",
    "\n",
    "s=0\n",
    "gA=1\n",
    "B=0\n",
    "x0=1\n",
    "p=1\n",
    "k=1\n",
    "\n",
    "plotf2(x,s,gA,B,x0,p,k)"
   ]
  },
  {
   "cell_type": "code",
   "execution_count": 7,
   "metadata": {},
   "outputs": [
    {
     "data": {
      "image/png": "[encoded data removed]",
      "text/plain": [
       "<Figure size 432x288 with 1 Axes>"
      ]
     },
     "metadata": {},
     "output_type": "display_data"
    },
    {
     "name": "stdout",
     "output_type": "stream",
     "text": [
      "This simulations is for those values :\n",
      "B = 1\n",
      "k = 1\n",
      "p = 1\n",
      "Minimum of the problem = 1.2189269077183364\n",
      "The point of minimum a is  0.26426426426426425\n"
     ]
    },
    {
     "data": {
      "image/png": "[encoded data removed]",
      "text/plain": [
       "<Figure size 432x288 with 1 Axes>"
      ]
     },
     "metadata": {},
     "output_type": "display_data"
    },
    {
     "name": "stdout",
     "output_type": "stream",
     "text": [
      "This simulations is for those values :\n",
      "B = 1\n",
      "k = 1\n"
     ]
    }
   ],
   "source": [
    "# with others parameters\n",
    "s=0\n",
    "gA=1\n",
    "B=1      # B has changed\n",
    "x0=1\n",
    "p=1\n",
    "k=1\n",
    "\n",
    "plotf2(x,s,gA,B,x0,p,k)"
   ]
  },
  {
   "cell_type": "markdown",
   "metadata": {},
   "source": [
    " ## 1.3) Third penalty  $P(x)=p  x \\, \\mathbb{1}_{x \\geq B } , \\quad p\\in (0,1) $:"
   ]
  },
  {
   "cell_type": "code",
   "execution_count": 8,
   "metadata": {},
   "outputs": [],
   "source": [
    "# function of the company's problem :\n",
    "def f3_a (a,s,gA,B,x0,p,k):\n",
    "    return np.exp(-gA*(s-k*a**2/2))*(norm.cdf(B/x0+a,0,1)+np.exp(-gA*p*x0*a+(gA*p*x0)**2/2)*(1-norm.cdf(B/x0+a,gA*p*x0,1)))"
   ]
  },
  {
   "cell_type": "code",
   "execution_count": 9,
   "metadata": {},
   "outputs": [],
   "source": [
    "#Graph of the company's problem \n",
    "#Computation of the minimum f3_a and the point of the minimum a\n",
    "\n",
    "\n",
    "def plotf3(x,s,gA,B,x0,p,k): #x the vector of value a \n",
    "\n",
    "    y=np.zeros(len(x))       # the value of f3_a()\n",
    "    for i in range(0,len(x)):\n",
    "        y[i]=f3_a(x[i],s,gA,B,x0,p,k)\n",
    "    plt.plot(x,np.log(y))\n",
    "    xlabel('action a')\n",
    "    ylabel(\"company's problem\")\n",
    "\n",
    "    np.argmin(y)\n",
    "    a_star3=x[np.argmin(y)]\n",
    "\n",
    "    \n",
    "    # we change the color of the minimum in red\n",
    "    plt.scatter(a_star3,np.log(y[np.argmin(y)]),c = \"red\")\n",
    "    show()\n",
    "    \n",
    "    \n",
    "    print('Minimum of the problem =' ,y[np.argmin(y)] )\n",
    "    print('The point of minimum a is ' ,a_star3 )\n",
    "    \n",
    "    print('This simulations is for those values :')\n",
    "    print(\"B =\", B)\n",
    "    print(\"k =\", k)\n",
    "    print(\"p =\", p)\n",
    "    \n",
    "    \n",
    "    # we plot the optimal action $a^*$ depending the penalty $p$\n",
    "    # the parameters k and B are fixed   \n",
    "    taille = 10\n",
    "    a_star=[]\n",
    "    p=[]\n",
    "    for pt in range(taille):\n",
    "        x=np.linspace(0,20,1000)\n",
    "        y = f3_a(x,s,gA,B,x0,pt,k)\n",
    "        p.append(pt)\n",
    "        a_star.append(x[np.argmin(y)])\n",
    "\n",
    "    plt.plot(p,a_star)\n",
    "    xlabel('penalty p')\n",
    "    ylabel('Optimal action a*')\n",
    "    title('Optimization of the action in function of the penalty')\n",
    "    show()\n",
    "    print('This simulations is for those values :')\n",
    "    print(\"B =\", B)\n",
    "    print(\"k =\", k)"
   ]
  },
  {
   "cell_type": "code",
   "execution_count": 10,
   "metadata": {
    "scrolled": true
   },
   "outputs": [
    {
     "data": {
      "image/png": "[encoded data removed]",
      "text/plain": [
       "<Figure size 432x288 with 1 Axes>"
      ]
     },
     "metadata": {},
     "output_type": "display_data"
    },
    {
     "name": "stdout",
     "output_type": "stream",
     "text": [
      "Minimum of the problem = 5.601605575149971\n",
      "The point of minimum a is  1.4974974974974975\n",
      "This simulations is for those values :\n",
      "B = 0.5\n",
      "k = 1\n",
      "p = 3\n"
     ]
    },
    {
     "data": {
      "image/png": "[encoded data removed]",
      "text/plain": [
       "<Figure size 432x288 with 1 Axes>"
      ]
     },
     "metadata": {},
     "output_type": "display_data"
    },
    {
     "name": "stdout",
     "output_type": "stream",
     "text": [
      "This simulations is for those values :\n",
      "B = 0.5\n",
      "k = 1\n"
     ]
    }
   ],
   "source": [
    "#fixed parameters\n",
    "s=0\n",
    "gA=1\n",
    "B=0.5\n",
    "x0=1\n",
    "p=3\n",
    "k=1\n",
    "\n",
    "a3=np.linspace(0,5,1000)\n",
    "\n",
    "plotf3(x,s,gA,B,x0,p,k)"
   ]
  },
  {
   "cell_type": "code",
   "execution_count": 11,
   "metadata": {},
   "outputs": [
    {
     "data": {
      "image/png": "[encoded data removed]",
      "text/plain": [
       "<Figure size 432x288 with 1 Axes>"
      ]
     },
     "metadata": {},
     "output_type": "display_data"
    },
    {
     "name": "stdout",
     "output_type": "stream",
     "text": [
      "Minimum of the problem = 1.4048006852776573\n",
      "The point of minimum a is  0.45645645645645644\n",
      "This simulations is for those values :\n",
      "B = 1\n",
      "k = 1\n",
      "p = 1\n"
     ]
    },
    {
     "data": {
      "image/png": "[encoded data removed]",
      "text/plain": [
       "<Figure size 432x288 with 1 Axes>"
      ]
     },
     "metadata": {},
     "output_type": "display_data"
    },
    {
     "name": "stdout",
     "output_type": "stream",
     "text": [
      "This simulations is for those values :\n",
      "B = 1\n",
      "k = 1\n"
     ]
    }
   ],
   "source": [
    "#other values of the parameters\n",
    "s=0\n",
    "gA=1\n",
    "B=1\n",
    "x0=1\n",
    "p=1\n",
    "k=1\n",
    "\n",
    "a3=np.linspace(0,5,1000)\n",
    "\n",
    "plotf3(x,s,gA,B,x0,p,k)"
   ]
  },
  {
   "cell_type": "markdown",
   "metadata": {},
   "source": [
    " ## 1.4) Fourth penalty  $P(x)=p \\, (x-B)_{+} \\,, \\, p \\in (0,1) $:"
   ]
  },
  {
   "cell_type": "code",
   "execution_count": 12,
   "metadata": {},
   "outputs": [],
   "source": [
    "# function of the company's problem :\n",
    "def f4_a (a,s,gA,B,x0,p,k):\n",
    "    return np.exp(-gA*(s-k*a**2/2))*(exp(-gA*p*(x0*a+B-gA*p*x0**2/2))*(1-norm.cdf(B/x0+a-gA*p*x0,0,1))+norm.cdf(B/x0+a,0,1))"
   ]
  },
  {
   "cell_type": "code",
   "execution_count": 13,
   "metadata": {},
   "outputs": [],
   "source": [
    "#Graph of the company's problem \n",
    "#Computation of the minimum f3_a and the point of the minimum a\n",
    "\n",
    "\n",
    "def plotf4(x,s,gA,B,x0,p,k): #x the vector of value a  \n",
    "\n",
    "    y=np.zeros(len(x))\n",
    "    for i in range(0,len(x)):\n",
    "        y[i]=f4_a(x[i],s,gA,B,x0,p,k)\n",
    "    plt.plot(x,np.log(y))\n",
    "    xlabel('action a')\n",
    "    ylabel(\"company's problem\")\n",
    "\n",
    "    np.argmin(y)\n",
    "    a_star4=x[np.argmin(y)]\n",
    "\n",
    "    #we change the color of the minimum in red\n",
    "    plt.scatter(a_star4,np.log(y[np.argmin(y)]),c = \"red\")\n",
    "    show()\n",
    "    \n",
    "    print('Minimum of the problem =' ,y[np.argmin(y)] )\n",
    "    print('The point of minimum a is ' ,a_star4 )\n",
    "    \n",
    "    print('This simulations is for those values :')\n",
    "    print(\"B =\", B)\n",
    "    print(\"k =\", k)\n",
    "    print(\"p =\", p)\n",
    "    \n",
    "    \n",
    "    # we plot the optimal action $a^*$ depending the penalty $p$\n",
    "    # the parameters k and B are fixed  \n",
    "    \n",
    "    taille = 10\n",
    "    cl=[]\n",
    "    a=[]\n",
    "    for pt in range(taille):\n",
    "        x=np.linspace(0,20,1000)\n",
    "        y = f4_a(x,s,gA,B,x0,pt,k)\n",
    "        a.append(pt)\n",
    "        cl.append(x[np.argmin(y)])\n",
    "\n",
    "    plt.plot(a,cl)\n",
    "    xlabel('penalty p')\n",
    "    ylabel('Optimal action a*')\n",
    "    title('Optimization of the action in function of the penalty')\n",
    "    show()\n",
    "    print('This simulations is for those values :')\n",
    "    print(\"B =\", B)\n",
    "    print(\"k =\", k)"
   ]
  },
  {
   "cell_type": "code",
   "execution_count": 14,
   "metadata": {},
   "outputs": [],
   "source": [
    "a4=np.linspace(0,10,1000)"
   ]
  },
  {
   "cell_type": "code",
   "execution_count": 15,
   "metadata": {},
   "outputs": [
    {
     "data": {
      "image/png": "[encoded data removed]",
      "text/plain": [
       "<Figure size 432x288 with 1 Axes>"
      ]
     },
     "metadata": {},
     "output_type": "display_data"
    },
    {
     "name": "stdout",
     "output_type": "stream",
     "text": [
      "Minimum of the problem = 1.665122472766448\n",
      "The point of minimum a is  0.6406406406406406\n",
      "This simulations is for those values :\n",
      "B = 1\n",
      "k = 1\n",
      "p = 0.9\n"
     ]
    },
    {
     "data": {
      "image/png": "[encoded data removed]",
      "text/plain": [
       "<Figure size 432x288 with 1 Axes>"
      ]
     },
     "metadata": {},
     "output_type": "display_data"
    },
    {
     "name": "stdout",
     "output_type": "stream",
     "text": [
      "This simulations is for those values :\n",
      "B = 1\n",
      "k = 1\n"
     ]
    }
   ],
   "source": [
    "#fixed parameters (arbitrary choice)\n",
    "s=0\n",
    "gA=1\n",
    "B=1\n",
    "x0=2\n",
    "p=0.9\n",
    "k=1\n",
    "\n",
    "plotf4(x,s,gA,B,x0,p,k)"
   ]
  },
  {
   "cell_type": "code",
   "execution_count": 16,
   "metadata": {},
   "outputs": [
    {
     "data": {
      "image/png": "[encoded data removed]",
      "text/plain": [
       "<Figure size 432x288 with 1 Axes>"
      ]
     },
     "metadata": {},
     "output_type": "display_data"
    },
    {
     "name": "stdout",
     "output_type": "stream",
     "text": [
      "Minimum of the problem = 1.100669451484741\n",
      "The point of minimum a is  0.17217217217217218\n",
      "This simulations is for those values :\n",
      "B = 1\n",
      "k = 1\n",
      "p = 0.9\n"
     ]
    },
    {
     "data": {
      "image/png": "[encoded data removed]",
      "text/plain": [
       "<Figure size 432x288 with 1 Axes>"
      ]
     },
     "metadata": {},
     "output_type": "display_data"
    },
    {
     "name": "stdout",
     "output_type": "stream",
     "text": [
      "This simulations is for those values :\n",
      "B = 1\n",
      "k = 1\n"
     ]
    }
   ],
   "source": [
    "#other value of parameters\n",
    "s=0\n",
    "gA=1\n",
    "B=1\n",
    "x0=1\n",
    "p=0.9\n",
    "k=1\n",
    "\n",
    "plotf4(x,s,gA,B,x0,p,k)"
   ]
  },
  {
   "cell_type": "markdown",
   "metadata": {},
   "source": [
    " # 2) Optimization of the government's problem : $p$ and $s$ "
   ]
  },
  {
   "cell_type": "markdown",
   "metadata": {},
   "source": [
    "## 2.1) First penalty"
   ]
  },
  {
   "cell_type": "code",
   "execution_count": 17,
   "metadata": {},
   "outputs": [],
   "source": [
    "#Lagrangian\n",
    "def f1_p(x0,K,p,s,B):\n",
    "    return np.exp(-p*(x0**2)/K + (x0**2)/2) + ((p*x0)**2)/K + B*p + s\n",
    "\n",
    "\n",
    "#Gradient of the Lagrangien \n",
    "def gradf_p(x0,K,p,s,B):\n",
    "    return -np.exp(-p*(x0**2)/K + (x0**2)/2)*(x0**2)/K + 2*(p)*((x0)**2)/K + B\n",
    "    "
   ]
  },
  {
   "cell_type": "code",
   "execution_count": 18,
   "metadata": {},
   "outputs": [],
   "source": [
    "#Algorithme de descente de gradient statégie de cauchy à pas fixe\n",
    "def descente (x0,K,p0,s,B,pas):\n",
    "    iteration = 0\n",
    "    p1 = p0 - pas*gradf_p(x0,K,p0,s,B)\n",
    "    while f1_p(x0,K,p1,s,B) < f1_p(x0,K,p0,s,B):\n",
    "        p0 = p1\n",
    "        iteration += 1\n",
    "        p1 = p0 - pas*gradf_p(x0,K,p0,s,B)\n",
    "   \n",
    "    return p0\n",
    "    \n",
    "    "
   ]
  },
  {
   "cell_type": "code",
   "execution_count": 19,
   "metadata": {},
   "outputs": [
    {
     "data": {
      "text/plain": [
       "array([ 0.00000000e+00, -1.60321766e-05, -6.41302485e-05, -1.44298843e-04,\n",
       "       -2.56545671e-04, -4.00881530e-04, -5.77320308e-04, -7.85878976e-04,\n",
       "       -1.02657760e-03, -1.29943934e-03, -1.60449045e-03, -1.94176029e-03,\n",
       "       -2.31128131e-03, -2.71308908e-03, -3.14722227e-03, -3.61372267e-03,\n",
       "       -4.11263520e-03, -4.64400789e-03, -5.20789192e-03, -5.80434159e-03,\n",
       "       -6.43341435e-03, -7.09517082e-03, -7.78967475e-03, -8.51699307e-03,\n",
       "       -9.27719589e-03, -1.00703565e-02, -1.08965514e-02, -1.17558602e-02,\n",
       "       -1.26483659e-02, -1.35741545e-02, -1.45333154e-02, -1.55259412e-02,\n",
       "       -1.65521277e-02, -1.76119741e-02, -1.87055827e-02, -1.98330591e-02,\n",
       "       -2.09945124e-02, -2.21900548e-02, -2.34198020e-02, -2.46838728e-02,\n",
       "       -2.59823897e-02, -2.73154783e-02, -2.86832677e-02, -3.00858904e-02,\n",
       "       -3.15234822e-02, -3.29961825e-02, -3.45041340e-02, -3.60474831e-02,\n",
       "       -3.76263794e-02, -3.92409763e-02, -4.08914304e-02, -4.25779021e-02,\n",
       "       -4.43005552e-02, -4.60595573e-02, -4.78550793e-02, -4.96872960e-02,\n",
       "       -5.15563857e-02, -5.34625304e-02, -5.54059157e-02, -5.73867311e-02,\n",
       "       -5.94051697e-02, -6.14614284e-02, -6.35557079e-02, -6.56882125e-02,\n",
       "       -6.78591508e-02, -7.00687347e-02, -7.23171805e-02, -7.46047080e-02,\n",
       "       -7.69315411e-02, -7.92979077e-02, -8.17040397e-02, -8.41501729e-02,\n",
       "       -8.66365473e-02, -8.91634068e-02, -9.17309997e-02, -9.43395781e-02,\n",
       "       -9.69893986e-02, -9.96807216e-02, -1.02413812e-01, -1.05188939e-01,\n",
       "       -1.08006377e-01, -1.10866402e-01, -1.13769297e-01, -1.16715348e-01,\n",
       "       -1.19704847e-01, -1.22738089e-01, -1.25815374e-01, -1.28937007e-01,\n",
       "       -1.32103296e-01, -1.35314556e-01, -1.38571104e-01, -1.41873264e-01,\n",
       "       -1.45221364e-01, -1.48615736e-01, -1.52056718e-01, -1.55544652e-01,\n",
       "       -1.59079886e-01, -1.62662771e-01, -1.66293666e-01, -1.69972931e-01,\n",
       "       -1.73700935e-01, -1.77478050e-01, -1.81304653e-01, -1.85181129e-01,\n",
       "       -1.89107863e-01, -1.93085252e-01, -1.97113692e-01, -2.01193589e-01,\n",
       "       -2.05325352e-01, -2.09509396e-01, -2.13746144e-01, -2.18036020e-01,\n",
       "       -2.22379458e-01, -2.26776895e-01, -2.31228775e-01, -2.35735548e-01,\n",
       "       -2.40297670e-01, -2.44915601e-01, -2.49589810e-01, -2.54320771e-01,\n",
       "       -2.59108962e-01, -2.63954870e-01, -2.68858988e-01, -2.73821814e-01,\n",
       "       -2.78843854e-01, -2.83925618e-01, -2.89067624e-01, -2.94270399e-01,\n",
       "       -2.99534472e-01, -3.04860382e-01, -3.10248674e-01, -3.15699900e-01,\n",
       "       -3.21214618e-01, -3.26793394e-01, -3.32436801e-01, -3.38145420e-01,\n",
       "       -3.43919836e-01, -3.49760646e-01, -3.55668450e-01, -3.61643858e-01,\n",
       "       -3.67687488e-01, -3.73799964e-01, -3.79981918e-01, -3.86233991e-01,\n",
       "       -3.92556830e-01, -3.98951092e-01, -4.05417441e-01, -4.11956549e-01,\n",
       "       -4.18569097e-01, -4.25255772e-01, -4.32017274e-01, -4.38854306e-01,\n",
       "       -4.45767584e-01, -4.52757831e-01, -4.59825778e-01, -4.66972166e-01,\n",
       "       -4.74197745e-01, -4.81503274e-01, -4.88889520e-01, -4.96357261e-01,\n",
       "       -5.03907283e-01, -5.11540383e-01, -5.19257366e-01, -5.27059048e-01,\n",
       "       -5.34946254e-01, -5.42919819e-01, -5.50980588e-01, -5.59129418e-01,\n",
       "       -5.67367173e-01, -5.75694729e-01, -5.84112974e-01, -5.92622804e-01,\n",
       "       -6.01225127e-01, -6.09920863e-01, -6.18710941e-01, -6.27596301e-01,\n",
       "       -6.36577897e-01, -6.45656692e-01, -6.54833660e-01, -6.64109790e-01,\n",
       "       -6.73486078e-01, -6.82963536e-01, -6.92543186e-01, -7.02226062e-01,\n",
       "       -7.12013213e-01, -7.21905697e-01, -7.31904586e-01, -7.42010966e-01,\n",
       "       -7.52225934e-01, -7.62550601e-01, -7.72986092e-01, -7.83533543e-01,\n",
       "       -7.94194106e-01, -8.04968947e-01, -8.15859242e-01, -8.26866186e-01,\n",
       "       -8.37990984e-01, -8.49234859e-01, -8.60599046e-01, -8.72084795e-01,\n",
       "       -8.83693372e-01, -8.95426058e-01, -9.07284147e-01, -9.19268952e-01,\n",
       "       -9.31381798e-01, -9.43624029e-01, -9.55997002e-01, -9.68502093e-01,\n",
       "       -9.81140693e-01, -9.93914209e-01, -1.00682406e+00, -1.01987170e+00,\n",
       "       -1.03305858e+00, -1.04638618e+00, -1.05985598e+00, -1.07346951e+00,\n",
       "       -1.08722828e+00, -1.10113386e+00, -1.11518779e+00, -1.12939168e+00,\n",
       "       -1.14374712e+00, -1.15825574e+00, -1.17291917e+00, -1.18773908e+00,\n",
       "       -1.20271715e+00, -1.21785509e+00, -1.23315461e+00, -1.24861745e+00,\n",
       "       -1.26424539e+00, -1.28004021e+00, -1.29600370e+00, -1.31213771e+00,\n",
       "       -1.32844407e+00, -1.34492467e+00, -1.36158139e+00, -1.37841615e+00,\n",
       "       -1.39543089e+00, -1.41262758e+00, -1.43000820e+00, -1.44757476e+00,\n",
       "       -1.46532930e+00, -1.48327388e+00, -1.50141057e+00, -1.51974150e+00,\n",
       "       -1.53826879e+00, -1.55699461e+00, -1.57592113e+00, -1.59505058e+00,\n",
       "       -1.61438519e+00, -1.63392724e+00, -1.65367900e+00, -1.67364281e+00,\n",
       "       -1.69382101e+00, -1.71421599e+00, -1.73483014e+00, -1.75566590e+00,\n",
       "       -1.77672575e+00, -1.79801217e+00, -1.81952769e+00, -1.84127487e+00,\n",
       "       -1.86325629e+00, -1.88547457e+00, -1.90793237e+00, -1.93063236e+00,\n",
       "       -1.95357726e+00, -1.97676981e+00, -2.00021281e+00, -2.02390906e+00,\n",
       "       -2.04786141e+00, -2.07207276e+00, -2.09654601e+00, -2.12128413e+00,\n",
       "       -2.14629011e+00, -2.17156696e+00, -2.19711777e+00, -2.22294563e+00,\n",
       "       -2.24905368e+00, -2.27544511e+00, -2.30212312e+00, -2.32909098e+00,\n",
       "       -2.35635199e+00, -2.38390948e+00, -2.41176683e+00, -2.43992746e+00,\n",
       "       -2.46839484e+00, -2.49717246e+00, -2.52626389e+00, -2.55567271e+00,\n",
       "       -2.58540255e+00, -2.61545711e+00, -2.64584010e+00, -2.67655530e+00,\n",
       "       -2.70760652e+00, -2.73899764e+00, -2.77073258e+00, -2.80281528e+00,\n",
       "       -2.83524977e+00, -2.86804011e+00, -2.90119040e+00, -2.93470482e+00,\n",
       "       -2.96858758e+00, -3.00284294e+00, -3.03747523e+00, -3.07248883e+00,\n",
       "       -3.10788815e+00, -3.14367769e+00, -3.17986199e+00, -3.21644563e+00,\n",
       "       -3.25343329e+00, -3.29082966e+00, -3.32863952e+00, -3.36686771e+00,\n",
       "       -3.40551911e+00, -3.44459868e+00, -3.48411143e+00, -3.52406244e+00,\n",
       "       -3.56445686e+00, -3.60529988e+00, -3.64659678e+00, -3.68835291e+00,\n",
       "       -3.73057366e+00, -3.77326451e+00, -3.81643100e+00, -3.86007874e+00,\n",
       "       -3.90421342e+00, -3.94884080e+00, -3.99396670e+00, -4.03959702e+00,\n",
       "       -4.08573775e+00, -4.13239492e+00, -4.17957468e+00, -4.22728323e+00,\n",
       "       -4.27552685e+00, -4.32431192e+00, -4.37364487e+00, -4.42353224e+00,\n",
       "       -4.47398063e+00, -4.52499675e+00, -4.57658737e+00, -4.62875937e+00,\n",
       "       -4.68151969e+00, -4.73487539e+00, -4.78883360e+00, -4.84340154e+00,\n",
       "       -4.89858653e+00, -4.95439598e+00, -5.01083741e+00, -5.06791841e+00,\n",
       "       -5.12564668e+00, -5.18403003e+00, -5.24307636e+00, -5.30279367e+00,\n",
       "       -5.36319006e+00, -5.42427374e+00, -5.48605303e+00, -5.54853635e+00,\n",
       "       -5.61173224e+00, -5.67564933e+00, -5.74029637e+00, -5.80568224e+00,\n",
       "       -5.87181592e+00, -5.93870650e+00, -6.00636321e+00, -6.07479537e+00,\n",
       "       -6.14401244e+00, -6.21402400e+00, -6.28483977e+00, -6.35646956e+00,\n",
       "       -6.42892333e+00, -6.50221118e+00, -6.57634333e+00, -6.65133013e+00,\n",
       "       -6.72718206e+00, -6.80390976e+00, -6.88152399e+00, -6.96003565e+00,\n",
       "       -7.03945579e+00, -7.11979562e+00, -7.20106646e+00, -7.28327980e+00,\n",
       "       -7.36644730e+00, -7.45058073e+00, -7.53569205e+00, -7.62179337e+00,\n",
       "       -7.70889695e+00, -7.79701521e+00, -7.88616076e+00, -7.97634634e+00,\n",
       "       -8.06758488e+00, -8.15988948e+00, -8.25327341e+00, -8.34775011e+00,\n",
       "       -8.44333322e+00, -8.54003652e+00, -8.63787402e+00, -8.73685989e+00,\n",
       "       -8.83700848e+00, -8.93833435e+00, -9.04085226e+00, -9.14457713e+00,\n",
       "       -9.24952413e+00, -9.35570858e+00, -9.46314604e+00, -9.57185227e+00,\n",
       "       -9.68184323e+00, -9.79313511e+00, -9.90574430e+00, -1.00196874e+01,\n",
       "       -1.01349813e+01, -1.02516431e+01, -1.03696900e+01, -1.04891395e+01,\n",
       "       -1.06100095e+01, -1.07323179e+01, -1.08560830e+01, -1.09813233e+01,\n",
       "       -1.11080574e+01, -1.12363045e+01, -1.13660838e+01, -1.14974147e+01,\n",
       "       -1.16303170e+01, -1.17648109e+01, -1.19009165e+01, -1.20386546e+01,\n",
       "       -1.21780459e+01, -1.23191116e+01, -1.24618731e+01, -1.26063523e+01,\n",
       "       -1.27525711e+01, -1.29005517e+01, -1.30503170e+01, -1.32018898e+01,\n",
       "       -1.33552933e+01, -1.35105512e+01, -1.36676873e+01, -1.38267258e+01,\n",
       "       -1.39876914e+01, -1.41506088e+01, -1.43155033e+01, -1.44824006e+01,\n",
       "       -1.46513264e+01, -1.48223071e+01, -1.49953694e+01, -1.51705402e+01,\n",
       "       -1.53478470e+01, -1.55273174e+01, -1.57089797e+01, -1.58928624e+01,\n",
       "       -1.60789943e+01, -1.62674048e+01, -1.64581237e+01, -1.66511811e+01,\n",
       "       -1.68466075e+01, -1.70444339e+01, -1.72446917e+01, -1.74474129e+01,\n",
       "       -1.76526296e+01, -1.78603746e+01, -1.80706811e+01, -1.82835828e+01,\n",
       "       -1.84991138e+01, -1.87173087e+01, -1.89382025e+01, -1.91618309e+01,\n",
       "       -1.93882300e+01, -1.96174362e+01, -1.98494867e+01, -2.00844191e+01,\n",
       "       -2.03222715e+01, -2.05630827e+01, -2.08068917e+01, -2.10537384e+01,\n",
       "       -2.13036631e+01, -2.15567067e+01, -2.18129106e+01, -2.20723169e+01,\n",
       "       -2.23349683e+01, -2.26009079e+01, -2.28701797e+01, -2.31428281e+01,\n",
       "       -2.34188982e+01, -2.36984357e+01, -2.39814871e+01, -2.42680993e+01,\n",
       "       -2.45583202e+01, -2.48521980e+01, -2.51497819e+01, -2.54511217e+01,\n",
       "       -2.57562677e+01, -2.60652713e+01, -2.63781843e+01, -2.66950595e+01,\n",
       "       -2.70159502e+01, -2.73409106e+01, -2.76699957e+01, -2.80032613e+01,\n",
       "       -2.83407638e+01, -2.86825607e+01, -2.90287101e+01, -2.93792710e+01,\n",
       "       -2.97343032e+01, -3.00938676e+01, -3.04580256e+01, -3.08268397e+01,\n",
       "       -3.12003734e+01, -3.15786908e+01, -3.19618573e+01, -3.23499389e+01,\n",
       "       -3.27430029e+01, -3.31411171e+01, -3.35443508e+01, -3.39527739e+01,\n",
       "       -3.43664576e+01, -3.47854739e+01, -3.52098961e+01, -3.56397982e+01,\n",
       "       -3.60752556e+01, -3.65163447e+01, -3.69631430e+01, -3.74157291e+01,\n",
       "       -3.78741828e+01, -3.83385849e+01, -3.88090176e+01, -3.92855643e+01,\n",
       "       -3.97683094e+01, -4.02573387e+01, -4.07527391e+01, -4.12545991e+01,\n",
       "       -4.17630082e+01, -4.22780572e+01, -4.27998385e+01, -4.33284455e+01,\n",
       "       -4.38639733e+01, -4.44065182e+01, -4.49561779e+01, -4.55130518e+01,\n",
       "       -4.60772404e+01, -4.66488459e+01, -4.72279720e+01, -4.78147240e+01,\n",
       "       -4.84092084e+01, -4.90115337e+01, -4.96218098e+01, -5.02401483e+01,\n",
       "       -5.08666624e+01, -5.15014670e+01, -5.21446786e+01, -5.27964157e+01,\n",
       "       -5.34567983e+01, -5.41259483e+01, -5.48039894e+01, -5.54910472e+01,\n",
       "       -5.61872490e+01, -5.68927241e+01, -5.76076038e+01, -5.83320214e+01,\n",
       "       -5.90661120e+01, -5.98100128e+01, -6.05638631e+01, -6.13278043e+01,\n",
       "       -6.21019798e+01, -6.28865353e+01, -6.36816186e+01, -6.44873798e+01,\n",
       "       -6.53039712e+01, -6.61315473e+01, -6.69702651e+01, -6.78202839e+01,\n",
       "       -6.86817654e+01, -6.95548736e+01, -7.04397754e+01, -7.13366397e+01,\n",
       "       -7.22456382e+01, -7.31669454e+01, -7.41007380e+01, -7.50471957e+01,\n",
       "       -7.60065010e+01, -7.69788388e+01, -7.79643971e+01, -7.89633667e+01,\n",
       "       -7.99759414e+01, -8.10023176e+01, -8.20426952e+01, -8.30972767e+01,\n",
       "       -8.41662680e+01, -8.52498779e+01, -8.63483186e+01, -8.74618055e+01,\n",
       "       -8.85905572e+01, -8.97347957e+01, -9.08947464e+01, -9.20706383e+01,\n",
       "       -9.32627036e+01, -9.44711784e+01, -9.56963023e+01, -9.69383185e+01,\n",
       "       -9.81974740e+01, -9.94740196e+01, -1.00768210e+02, -1.02080304e+02,\n",
       "       -1.03410564e+02, -1.04759257e+02, -1.06126654e+02, -1.07513029e+02,\n",
       "       -1.08918662e+02, -1.10343837e+02, -1.11788840e+02, -1.13253966e+02,\n",
       "       -1.14739511e+02, -1.16245776e+02, -1.17773068e+02, -1.19321698e+02,\n",
       "       -1.20891982e+02, -1.22484240e+02, -1.24098799e+02, -1.25735990e+02,\n",
       "       -1.27396148e+02, -1.29079615e+02, -1.30786738e+02, -1.32517869e+02,\n",
       "       -1.34273365e+02, -1.36053590e+02, -1.37858913e+02, -1.39689708e+02,\n",
       "       -1.41546357e+02, -1.43429246e+02, -1.45338767e+02, -1.47275320e+02,\n",
       "       -1.49239309e+02, -1.51231147e+02, -1.53251252e+02, -1.55300047e+02,\n",
       "       -1.57377966e+02, -1.59485445e+02, -1.61622930e+02, -1.63790874e+02,\n",
       "       -1.65989735e+02, -1.68219981e+02, -1.70482085e+02, -1.72776529e+02,\n",
       "       -1.75103804e+02, -1.77464404e+02, -1.79858836e+02, -1.82287613e+02,\n",
       "       -1.84751256e+02, -1.87250295e+02, -1.89785267e+02, -1.92356719e+02,\n",
       "       -1.94965206e+02, -1.97611293e+02, -2.00295554e+02, -2.03018569e+02,\n",
       "       -2.05780933e+02, -2.08583244e+02, -2.11426116e+02, -2.14310168e+02,\n",
       "       -2.17236031e+02, -2.20204346e+02, -2.23215764e+02, -2.26270948e+02,\n",
       "       -2.29370570e+02, -2.32515312e+02, -2.35705870e+02, -2.38942948e+02,\n",
       "       -2.42227265e+02, -2.45559547e+02, -2.48940537e+02, -2.52370986e+02,\n",
       "       -2.55851659e+02, -2.59383333e+02, -2.62966797e+02, -2.66602855e+02,\n",
       "       -2.70292321e+02, -2.74036024e+02, -2.77834808e+02, -2.81689527e+02,\n",
       "       -2.85601052e+02, -2.89570268e+02, -2.93598073e+02, -2.97685380e+02,\n",
       "       -3.01833118e+02, -3.06042230e+02, -3.10313676e+02, -3.14648430e+02,\n",
       "       -3.19047483e+02, -3.23511842e+02, -3.28042530e+02, -3.32640589e+02,\n",
       "       -3.37307076e+02, -3.42043065e+02, -3.46849650e+02, -3.51727942e+02,\n",
       "       -3.56679068e+02, -3.61704178e+02, -3.66804437e+02, -3.71981032e+02,\n",
       "       -3.77235169e+02, -3.82568073e+02, -3.87980990e+02, -3.93475187e+02,\n",
       "       -3.99051951e+02, -4.04712591e+02, -4.10458439e+02, -4.16290848e+02,\n",
       "       -4.22211192e+02, -4.28220871e+02, -4.34321305e+02, -4.40513941e+02,\n",
       "       -4.46800248e+02, -4.53181721e+02, -4.59659878e+02, -4.66236264e+02,\n",
       "       -4.72912449e+02, -4.79690031e+02, -4.86570633e+02, -4.93555905e+02,\n",
       "       -5.00647527e+02, -5.07847205e+02, -5.15156674e+02, -5.22577700e+02,\n",
       "       -5.30112075e+02, -5.37761626e+02, -5.45528208e+02, -5.53413707e+02,\n",
       "       -5.61420042e+02, -5.69549163e+02, -5.77803056e+02, -5.86183737e+02,\n",
       "       -5.94693259e+02, -6.03333708e+02, -6.12107206e+02, -6.21015910e+02,\n",
       "       -6.30062017e+02, -6.39247757e+02, -6.48575400e+02, -6.58047256e+02,\n",
       "       -6.67665671e+02, -6.77433035e+02, -6.87351776e+02, -6.97424363e+02,\n",
       "       -7.07653309e+02, -7.18041170e+02, -7.28590544e+02, -7.39304076e+02,\n",
       "       -7.50184453e+02, -7.61234411e+02, -7.72456731e+02, -7.83854244e+02,\n",
       "       -7.95429827e+02, -8.07186408e+02, -8.19126965e+02, -8.31254527e+02,\n",
       "       -8.43572177e+02, -8.56083049e+02, -8.68790331e+02, -8.81697267e+02,\n",
       "       -8.94807157e+02, -9.08123359e+02, -9.21649287e+02, -9.35388415e+02,\n",
       "       -9.49344278e+02, -9.63520471e+02, -9.77920653e+02, -9.92548544e+02,\n",
       "       -1.00740793e+03, -1.02250267e+03, -1.03783667e+03, -1.05341393e+03,\n",
       "       -1.06923850e+03, -1.08531451e+03, -1.10164615e+03, -1.11823771e+03,\n",
       "       -1.13509353e+03, -1.15221803e+03, -1.16961572e+03, -1.18729116e+03,\n",
       "       -1.20524904e+03, -1.22349407e+03, -1.24203110e+03, -1.26086503e+03,\n",
       "       -1.28000086e+03, -1.29944366e+03, -1.31919862e+03, -1.33927100e+03,\n",
       "       -1.35966615e+03, -1.38038953e+03, -1.40144669e+03, -1.42284327e+03,\n",
       "       -1.44458501e+03, -1.46667777e+03, -1.48912750e+03, -1.51194024e+03,\n",
       "       -1.53512217e+03, -1.55867956e+03, -1.58261879e+03, -1.60694635e+03,\n",
       "       -1.63166887e+03, -1.65679308e+03, -1.68232581e+03, -1.70827405e+03,\n",
       "       -1.73464490e+03, -1.76144556e+03, -1.78868341e+03, -1.81636591e+03,\n",
       "       -1.84450070e+03, -1.87309551e+03, -1.90215824e+03, -1.93169693e+03,\n",
       "       -1.96171976e+03, -1.99223504e+03, -2.02325125e+03, -2.05477702e+03,\n",
       "       -2.08682113e+03, -2.11939251e+03, -2.15250026e+03, -2.18615365e+03,\n",
       "       -2.22036211e+03, -2.25513523e+03, -2.29048280e+03, -2.32641475e+03,\n",
       "       -2.36294123e+03, -2.40007253e+03, -2.43781917e+03, -2.47619183e+03,\n",
       "       -2.51520140e+03, -2.55485895e+03, -2.59517576e+03, -2.63616333e+03,\n",
       "       -2.67783335e+03, -2.72019772e+03, -2.76326857e+03, -2.80705825e+03,\n",
       "       -2.85157932e+03, -2.89684458e+03, -2.94286708e+03, -2.98966007e+03,\n",
       "       -3.03723707e+03, -3.08561185e+03, -3.13479840e+03, -3.18481102e+03,\n",
       "       -3.23566421e+03, -3.28737278e+03, -3.33995180e+03, -3.39341661e+03,\n",
       "       -3.44778284e+03, -3.50306640e+03, -3.55928350e+03, -3.61645065e+03,\n",
       "       -3.67458464e+03, -3.73370261e+03, -3.79382198e+03, -3.85496051e+03,\n",
       "       -3.91713629e+03, -3.98036774e+03, -4.04467361e+03, -4.11007301e+03,\n",
       "       -4.17658540e+03, -4.24423061e+03, -4.31302882e+03, -4.38300060e+03,\n",
       "       -4.45416689e+03, -4.52654903e+03, -4.60016875e+03, -4.67504819e+03,\n",
       "       -4.75120989e+03, -4.82867683e+03, -4.90747239e+03, -4.98762043e+03,\n",
       "       -5.06914521e+03, -5.15207147e+03, -5.23642440e+03, -5.32222967e+03,\n",
       "       -5.40951344e+03, -5.49830233e+03, -5.58862348e+03, -5.68050455e+03,\n",
       "       -5.77397369e+03, -5.86905961e+03, -5.96579153e+03, -6.06419925e+03,\n",
       "       -6.16431310e+03, -6.26616401e+03, -6.36978347e+03, -6.47520358e+03,\n",
       "       -6.58245705e+03, -6.69157718e+03, -6.80259793e+03, -6.91555389e+03,\n",
       "       -7.03048031e+03, -7.14741309e+03, -7.26638884e+03, -7.38744484e+03,\n",
       "       -7.51061908e+03, -7.63595029e+03, -7.76347792e+03, -7.89324218e+03,\n",
       "       -8.02528403e+03, -8.15964522e+03, -8.29636831e+03, -8.43549665e+03,\n",
       "       -8.57707442e+03, -8.72114666e+03, -8.86775925e+03, -9.01695896e+03,\n",
       "       -9.16879345e+03, -9.32331131e+03, -9.48056203e+03, -9.64059607e+03,\n",
       "       -9.80346486e+03, -9.96922081e+03, -1.01379173e+04, -1.03096089e+04,\n",
       "       -1.04843509e+04, -1.06622001e+04, -1.08432139e+04, -1.10274513e+04,\n",
       "       -1.12149720e+04, -1.14058372e+04, -1.16001091e+04, -1.17978511e+04,\n",
       "       -1.19991278e+04, -1.22040053e+04, -1.24125506e+04, -1.26248323e+04,\n",
       "       -1.28409202e+04, -1.30608855e+04, -1.32848007e+04, -1.35127398e+04,\n",
       "       -1.37447783e+04, -1.39809929e+04, -1.42214622e+04, -1.44662659e+04,\n",
       "       -1.47154855e+04, -1.49692041e+04, -1.52275064e+04, -1.54904786e+04,\n",
       "       -1.57582089e+04, -1.60307869e+04, -1.63083041e+04, -1.65908538e+04,\n",
       "       -1.68785312e+04, -1.71714332e+04, -1.74696586e+04, -1.77733084e+04,\n",
       "       -1.80824854e+04, -1.83972942e+04, -1.87178420e+04, -1.90442376e+04,\n",
       "       -1.93765922e+04, -1.97150192e+04, -2.00596341e+04, -2.04105548e+04,\n",
       "       -2.07679015e+04, -2.11317968e+04, -2.15023656e+04, -2.18797354e+04,\n",
       "       -2.22640362e+04, -2.26554006e+04, -2.30539638e+04, -2.34598637e+04,\n",
       "       -2.38732409e+04, -2.42942388e+04, -2.47230036e+04, -2.51596847e+04,\n",
       "       -2.56044341e+04, -2.60574071e+04, -2.65187618e+04, -2.69886599e+04,\n",
       "       -2.74672659e+04, -2.79547477e+04, -2.84512769e+04, -2.89570280e+04,\n",
       "       -2.94721793e+04, -2.99969127e+04, -3.05314136e+04, -3.10758712e+04,\n",
       "       -3.16304786e+04, -3.21954325e+04, -3.27709337e+04, -3.33571873e+04,\n",
       "       -3.39544021e+04, -3.45627913e+04, -3.51825725e+04, -3.58139675e+04,\n",
       "       -3.64572027e+04, -3.71125091e+04, -3.77801221e+04, -3.84602823e+04,\n",
       "       -3.91532348e+04, -3.98592298e+04, -4.05785226e+04, -4.13113736e+04,\n",
       "       -4.20580486e+04, -4.28188187e+04, -4.35939605e+04, -4.43837563e+04,\n",
       "       -4.51884940e+04, -4.60084676e+04, -4.68439769e+04, -4.76953278e+04])"
      ]
     },
     "execution_count": 19,
     "metadata": {},
     "output_type": "execute_result"
    }
   ],
   "source": [
    "K = 1\n",
    "B = 0 \n",
    "x0 = 3\n",
    "pas = 0.001 \n",
    "p0 = 0\n",
    "s= 0\n",
    "gradf_p(x,K,p0,s,B)"
   ]
  },
  {
   "cell_type": "code",
   "execution_count": 20,
   "metadata": {},
   "outputs": [
    {
     "data": {
      "text/plain": [
       "0.50000000591117"
      ]
     },
     "execution_count": 20,
     "metadata": {},
     "output_type": "execute_result"
    }
   ],
   "source": [
    "descente (x0,K,p0,s,B,pas)"
   ]
  },
  {
   "cell_type": "code",
   "execution_count": 21,
   "metadata": {},
   "outputs": [],
   "source": [
    "#This function shows the maximum p* for the first penalty \n",
    "def plotf1(x0,K,s,B):\n",
    "    pas = 0.001 #variables pour la fonction descente\n",
    "    p0 = 0\n",
    "    p = np.linspace(0,1,1000)\n",
    "    plt.plot(p , f1_p(x0,K,p,s,B))\n",
    "    xlabel('penalty p')\n",
    "    ylabel(\"government's problem\")\n",
    "    title(\"Representation of the company's problem depending on the penalty $p$\")\n",
    "    pp = descente (x0,K,p0,s,B,pas) #calcul de p star\n",
    "    plt.scatter(pp,f1_p(x0,K,pp,s,B),c = \"red\")\n",
    "    show()\n",
    "    \n",
    "    print('The point of global minimum p* is :',descente (x0,K,p0,s,B,pas) )\n",
    "    print('This simulations is for those values :')\n",
    "    print(\"B =\", B)\n",
    "    print(\"k =\", K)\n",
    "    "
   ]
  },
  {
   "cell_type": "code",
   "execution_count": 22,
   "metadata": {},
   "outputs": [
    {
     "data": {
      "image/png": "[encoded data removed]",
      "text/plain": [
       "<Figure size 432x288 with 1 Axes>"
      ]
     },
     "metadata": {},
     "output_type": "display_data"
    },
    {
     "name": "stdout",
     "output_type": "stream",
     "text": [
      "The point of global minimum p* is : 0.4999998103841278\n",
      "This simulations is for those values :\n",
      "B = 0\n",
      "k = 1\n"
     ]
    }
   ],
   "source": [
    "K = 1\n",
    "B = 0\n",
    "x0= 1\n",
    "\n",
    "s= 0\n",
    "plotf1(x0,K,s,B)"
   ]
  },
  {
   "cell_type": "code",
   "execution_count": 23,
   "metadata": {},
   "outputs": [
    {
     "data": {
      "image/png": "[encoded data removed]",
      "text/plain": [
       "<Figure size 432x288 with 1 Axes>"
      ]
     },
     "metadata": {},
     "output_type": "display_data"
    },
    {
     "name": "stdout",
     "output_type": "stream",
     "text": [
      "The point of global minimum p* is : 0.4902588087550816\n",
      "This simulations is for those values :\n",
      "B = 1\n",
      "k = 1\n"
     ]
    }
   ],
   "source": [
    "K = 1\n",
    "B = 1 \n",
    "x0 = 3\n",
    "pas = 0.001 \n",
    "p0 = 0\n",
    "s= 0\n",
    "plotf1(x0,K,s,B)"
   ]
  },
  {
   "cell_type": "code",
   "execution_count": 24,
   "metadata": {},
   "outputs": [
    {
     "data": {
      "text/plain": [
       "Text(0.5,1,\"Representation the penalty's evolution in function of B\")"
      ]
     },
     "execution_count": 24,
     "metadata": {},
     "output_type": "execute_result"
    },
    {
     "data": {
      "image/png": "[encoded data removed]",
      "text/plain": [
       "<Figure size 432x288 with 1 Axes>"
      ]
     },
     "metadata": {},
     "output_type": "display_data"
    }
   ],
   "source": [
    "K = 1 \n",
    "x0 = 1\n",
    "pas = 0.001 \n",
    "p0 = 0\n",
    "s= 0\n",
    "B=np.linspace(0,0.5,6)\n",
    "P=np.zeros(len(B))\n",
    "for i in range(6):\n",
    "    P[i]=descente(x0,K,p0,s,B[i],pas)\n",
    "\n",
    "plt.plot(B,P)\n",
    "xlabel('B')\n",
    "ylabel('optimal penalty p*')\n",
    "title(\"Representation the penalty's evolution in function of B\")"
   ]
  },
  {
   "cell_type": "code",
   "execution_count": 25,
   "metadata": {},
   "outputs": [
    {
     "data": {
      "text/plain": [
       "Text(0.5,1,\"Representation the penalty's evolution in function of B\")"
      ]
     },
     "execution_count": 25,
     "metadata": {},
     "output_type": "execute_result"
    },
    {
     "data": {
      "image/png": "[encoded data removed]",
      "text/plain": [
       "<Figure size 432x288 with 1 Axes>"
      ]
     },
     "metadata": {},
     "output_type": "display_data"
    }
   ],
   "source": [
    "B=np.linspace(-10,20,30)\n",
    "P=np.zeros(len(B))\n",
    "for i in range(30):\n",
    "    P[i]=descente(x0,K,p0,s,B[i],pas)\n",
    "\n",
    "plt.plot(B,P)\n",
    "xlabel('B')\n",
    "ylabel('optimal penalty p*')\n",
    "title(\"Representation the penalty's evolution in function of B\")"
   ]
  },
  {
   "cell_type": "code",
   "execution_count": 26,
   "metadata": {},
   "outputs": [],
   "source": [
    "#computation of the salary s such as the participation constraint is saturated\n",
    "def f1_s(k,a,p,x0,B,gA,y):\n",
    "    return (k*a**2)/2-p*x0*a-p*B+gA*(p*x0)**2/2+y"
   ]
  },
  {
   "cell_type": "code",
   "execution_count": 27,
   "metadata": {},
   "outputs": [
    {
     "name": "stdout",
     "output_type": "stream",
     "text": [
      "The optimal penalty p* is 0.18507676493853129\n",
      "The optimal action a* is 0.18507676493853129\n"
     ]
    }
   ],
   "source": [
    "gA = 0\n",
    "x0 = 1\n",
    "B = 1\n",
    "y=0\n",
    "a_star1=descente (x0,K,p0,s,B,pas)\n",
    "p_star1=descente (x0,K,p0,s,B,pas)\n",
    "print('The optimal penalty p* is', p_star1)\n",
    "\n",
    "print('The optimal action a* is', a_star1)"
   ]
  },
  {
   "cell_type": "code",
   "execution_count": 28,
   "metadata": {},
   "outputs": [
    {
     "name": "stdout",
     "output_type": "stream",
     "text": [
      "The optimal wage s* is -0.20220346939858747\n"
     ]
    }
   ],
   "source": [
    "s_star1=f1_s(1,a_star1,p_star1,x0,B,gA,y)\n",
    "print('The optimal wage s* is',s_star1 )"
   ]
  },
  {
   "cell_type": "markdown",
   "metadata": {},
   "source": [
    "We have implemented a non specific code such as any function can be used. From now, to optimize the penalty, we call the code below."
   ]
  },
  {
   "cell_type": "code",
   "execution_count": 29,
   "metadata": {},
   "outputs": [],
   "source": [
    "#Definition of the explained function\n",
    "\n",
    "\n",
    "#choice of the parameter \"function\"\n",
    "#f2_p  = 2    refers to the second tax\n",
    "#f3_p  = 3    refers to the third tax\n",
    "#f4_p  = 4    refers to the fourth tax\n",
    "\n",
    "\n",
    "\n",
    "# this function illustrates the objective function depending on the penalty p\n",
    "def optip(s,gA,B,x0,k,taille,function,gP=0): \n",
    "    p = np.linspace(0,1,taille)\n",
    "    \n",
    "    a_star = []\n",
    "    for i in (p): #first, we compute the optimal action a* (a_star) for each penalty p\n",
    "                                           \n",
    "        a = np.linspace(0,10,taille)\n",
    "        \n",
    "      \n",
    "        if function == 2:              \n",
    "            \n",
    "            y = f2_a(a,s,gA,B,x0,i,k)\n",
    "            \n",
    "        if function == 3:\n",
    "            \n",
    "            y = f3_a(a,s,gA,B,x0,i,k)\n",
    "            \n",
    "        if function == 4:\n",
    "            \n",
    "            y=f4_a(a,s,gA,B,x0,i,k)\n",
    "            \n",
    "        if function == 5:      #Function of the third penalty's non neutral utility\n",
    "            y = f3_a(a,s,gA,B,x0,i,k)\n",
    "        \n",
    "            \n",
    "        a_star.append(a[np.argmin(y)])\n",
    "        \n",
    "\n",
    "    value = []          # optimization of the penalty p knowing the value of the optimal action a_star\n",
    "    for i in range(taille):\n",
    "        \n",
    "       \n",
    "        if function == 2:\n",
    "            \n",
    "            y=f2_p(a_star[i],s,gA,B,x0,p[i],k)                                               \n",
    "            value.append(y)\n",
    "            \n",
    "        if function == 3:\n",
    "            \n",
    "            y=f3_p(a_star[i],s,gA,B,x0,p[i],k)                                               \n",
    "            value.append(y)\n",
    "            \n",
    "        if function == 4:\n",
    "            \n",
    "            y=f4_p(a_star[i],s,gA,B,x0,p[i],k)                                               \n",
    "            value.append(y)\n",
    "        if function == 5:      #Function of the third penalty's non neutral utility\n",
    "            \n",
    "            y=f3_p_ut(a_star[i],s,gA,B,x0,p[i],k,gP)                                               \n",
    "            value.append(y)       \n",
    "        \n",
    "\n",
    "    min_value = np.min(value)         # the minimum value of the principal's problem\n",
    "    print('Minimum of the problem =' ,min_value )\n",
    "    print('The point of minimum p* is ' ,p[np.argmin(value)])     # value of the optimal penalty p* (p_star)\n",
    "    plt.plot(p,value)                        \n",
    "    xlabel('penalty p')\n",
    "    ylabel(\"government's problem\")\n",
    "    title(\"Representation of the principal's problem  : optimization of the penalty p\")\n",
    "\n",
    "    plt.show()\n",
    "    p_star=p[np.argmin(value)]\n",
    "    a_star=a_star[np.argmin(value)]\n",
    "   \n",
    "   "
   ]
  },
  {
   "cell_type": "code",
   "execution_count": 30,
   "metadata": {},
   "outputs": [],
   "source": [
    "# this function compute the penalty p* and the action a*\n",
    "def opti_value(s,gA,B,x0,k,taille,function,gP=0): \n",
    "    p = np.linspace(0,10,taille)\n",
    "    \n",
    "    a_star = []\n",
    "    for i in (p): #first, we compute the optimal action a* (a_star) for each penalty p\n",
    "        a = np.linspace(0,1,1000)\n",
    "        \n",
    "        if function == 2:\n",
    "            \n",
    "            y = f2_a(a,s,gA,B,x0,i,k)\n",
    "            \n",
    "        if function == 3:\n",
    "            \n",
    "            y = f3_a(a,s,gA,B,x0,i,k)\n",
    "            \n",
    "        if function == 4:\n",
    "            \n",
    "            y=f4_a(a,s,gA,B,x0,i,k)\n",
    "            \n",
    "        if function == 5:      #Function of the third penalty's non neutral utility\n",
    "            y = f3_a(a,s,gA,B,x0,i,k)\n",
    "            \n",
    "            \n",
    "            \n",
    "        a_star.append(a[np.argmin(y)])\n",
    "        \n",
    "        \n",
    "        \n",
    "\n",
    "    value = [] #optimization of the penalty p knowing the value of the optimal action a_star\n",
    "    for i in range(taille):\n",
    "                    \n",
    "        if function == 2:\n",
    "            \n",
    "            y=f2_p(a_star[i],s,gA,B,x0,p[i],k)                                               \n",
    "            value.append(y)\n",
    "            \n",
    "        if function == 3:\n",
    "            \n",
    "            y=f3_p(a_star[i],s,gA,B,x0,p[i],k)                                               \n",
    "            value.append(y)\n",
    "            \n",
    "        if function == 4:\n",
    "            \n",
    "            y=f4_p(a_star[i],s,gA,B,x0,p[i],k)                                               \n",
    "            value.append(y)\n",
    "        \n",
    "        if function == 5:      #Function of the third penalty's non neutral utility\n",
    "            \n",
    "            y=f3_p_ut(a_star[i],s,gA,B,x0,p[i],k,gP)                                               \n",
    "            value.append(y)\n",
    "                                                  \n",
    "\n",
    "    p_star = p[np.argmin(value)]\n",
    "    a_star=a_star[np.argmin(value)]\n",
    "    \n",
    "\n",
    "    return p_star, a_star"
   ]
  },
  {
   "cell_type": "markdown",
   "metadata": {},
   "source": [
    "#### Initialization of general parameters\n",
    "Here are the parameters that will be used from now on. "
   ]
  },
  {
   "cell_type": "code",
   "execution_count": 31,
   "metadata": {},
   "outputs": [],
   "source": [
    "s=0\n",
    "gA=1\n",
    "x0=1\n",
    "k=1\n",
    "B =1\n",
    "taille = 1000\n",
    "taille1 = taille\n",
    "taille2 = 12"
   ]
  },
  {
   "cell_type": "markdown",
   "metadata": {},
   "source": [
    "## 2.2) Second penalty"
   ]
  },
  {
   "cell_type": "markdown",
   "metadata": {},
   "source": [
    "To compare with the other taxes, we restrict the interval of $p$ in (0,1)"
   ]
  },
  {
   "cell_type": "code",
   "execution_count": 32,
   "metadata": {},
   "outputs": [],
   "source": [
    "# function of the company's problem :\n",
    "# optimization of the penalty p*\n",
    "def f2_p (a,s,gA,B,x0,p,k):\n",
    "    return np.exp(-x0*a + x0**2/2)+ s - p *(1-norm.cdf(B/x0+a,0,1))\n",
    "\n",
    "# optimization of the salary s*\n",
    "def f2_s (a,s,gA,B,x0,p,k):\n",
    "    return y + k*a**2/2 + (1/gA)*math.log( (1-norm.cdf(B/x0+a,0,1))*np.exp((gA*p)**2/2)+norm.cdf(B/x0+a,0,1))\n"
   ]
  },
  {
   "cell_type": "code",
   "execution_count": 33,
   "metadata": {},
   "outputs": [
    {
     "name": "stdout",
     "output_type": "stream",
     "text": [
      "Minimum of the problem = 1.167130592365101\n",
      "The point of minimum p* is  1.0\n"
     ]
    },
    {
     "data": {
      "image/png": "[encoded data removed]",
      "text/plain": [
       "<Figure size 432x288 with 1 Axes>"
      ]
     },
     "metadata": {},
     "output_type": "display_data"
    },
    {
     "name": "stdout",
     "output_type": "stream",
     "text": [
      "The value of the optimal penalty p* is  10.0\n",
      "The value of the optimal action a* is  1.0\n"
     ]
    }
   ],
   "source": [
    "#Application\n",
    "optip(s,gA,B,x0,k,taille,function=2)\n",
    "plt.show()\n",
    "\n",
    "p_star2,a_star2 = opti_value(s,gA,B,x0,k,taille,function=2)\n",
    "print(\"The value of the optimal penalty p* is \", p_star2)\n",
    "print(\"The value of the optimal action a* is \", a_star2)"
   ]
  },
  {
   "cell_type": "code",
   "execution_count": 34,
   "metadata": {},
   "outputs": [],
   "source": [
    "def f2_s(k,a,p,x0,B,gA,y):\n",
    "    return y+(k*a**2)/2+(1/gA)*math.log(norm.cdf(B/x0+a)+(1-norm.cdf(B/x0+a))*np.exp(gA*p))"
   ]
  },
  {
   "cell_type": "code",
   "execution_count": 35,
   "metadata": {},
   "outputs": [
    {
     "name": "stdout",
     "output_type": "stream",
     "text": [
      "The value of the optimal wage s* is  6.718763956970786\n"
     ]
    }
   ],
   "source": [
    "s_star2=f2_s(1,a_star2,p_star2,1,1,1,0)\n",
    "print('The value of the optimal wage s* is ',s_star2 )"
   ]
  },
  {
   "cell_type": "markdown",
   "metadata": {},
   "source": [
    "## 2.3) Third penalty"
   ]
  },
  {
   "cell_type": "code",
   "execution_count": 36,
   "metadata": {},
   "outputs": [],
   "source": [
    "# function of the company's problem :\n",
    "# optimization of the penalty p*\n",
    "def f3_p (a,s,gA,B,x0,p,k):\n",
    "    return np.exp(-x0*a + x0**2/2)+s+p*x0*a*(1-norm.cdf(B/x0+a,0,1))-p*x0*(1/np.sqrt(2*math.pi))*np.exp(-0.5*(B/x0+a)**2)\n",
    "\n",
    "\n",
    "#optimization of the wage s*\n",
    "def f3_s (a,s,gA,B,x0,p,k,Y):\n",
    "    return Y+k*a**2/2 - (1/gA)*math.log ( norm.cdf(B/x0+a,0,1) + (1- norm.cdf(B/x0+a-gA*p*x0,0,1))*np.exp(-gA*p*x0*a+(gA*p*x0)**2/2))"
   ]
  },
  {
   "cell_type": "code",
   "execution_count": 37,
   "metadata": {},
   "outputs": [
    {
     "name": "stdout",
     "output_type": "stream",
     "text": [
      "Minimum of the problem = 0.9361982690164168\n",
      "The point of minimum p* is  1.0\n"
     ]
    },
    {
     "data": {
      "image/png": "[encoded data removed]",
      "text/plain": [
       "<Figure size 432x288 with 1 Axes>"
      ]
     },
     "metadata": {},
     "output_type": "display_data"
    },
    {
     "name": "stdout",
     "output_type": "stream",
     "text": [
      "The value of the optimal penalty p* is  10.0\n",
      "The value of the optimal action a* is  1.0\n"
     ]
    }
   ],
   "source": [
    "# Application\n",
    "optip(s,gA,B,x0,k,taille,function=3)\n",
    "plt.show()\n",
    "\n",
    "p_star3,a_star3=opti_value(s,gA,B,x0,k,taille,function=3)\n",
    "\n",
    "print(\"The value of the optimal penalty p* is \", p_star3)\n",
    "print(\"The value of the optimal action a* is \", a_star3)"
   ]
  },
  {
   "cell_type": "code",
   "execution_count": 38,
   "metadata": {},
   "outputs": [],
   "source": [
    "def f3_s(k,a,p,x0,B,gA,y):\n",
    "    return y+(k*a**2)/2+(1/gA)*math.log(norm.cdf(B/x0+a)+(1-norm.cdf(B/x0+a-gA*p*x0))*np.exp(-gA*p*x0*(a-gA*p*x0/2)))"
   ]
  },
  {
   "cell_type": "code",
   "execution_count": 39,
   "metadata": {},
   "outputs": [
    {
     "name": "stdout",
     "output_type": "stream",
     "text": [
      "The value of the optimal wage s* is 40.5\n"
     ]
    }
   ],
   "source": [
    "s_star3=f3_s(1,a_star3,p_star3,1,1,1,0)\n",
    "print('The value of the optimal wage s* is',s_star3 )"
   ]
  },
  {
   "cell_type": "markdown",
   "metadata": {},
   "source": [
    "## 2.4) Fourth penalty"
   ]
  },
  {
   "cell_type": "code",
   "execution_count": 40,
   "metadata": {},
   "outputs": [],
   "source": [
    "# function of the company's problem :\n",
    "# optimization of the penalty p*\n",
    "def f4_p (a,s,gA,B,x0,p,k):\n",
    "    return np.exp(-x0*a + x0**2/2)+s-p*(x0*(1/np.sqrt(2*math.pi))*np.exp(-0.5*(B/x0+a)**2) -(x0*a+B)*(1-norm.cdf(B/x0+a,0,1)))\n",
    "\n",
    "\n",
    "#optimization of the wage s*\n",
    "def f4_s (a,s,gA,B,x0,p,k,Y):\n",
    "    return Y+k*a**2/2 + (1/gA)*math.log ( norm.cdf(B/x0+a,0,1) + (1- norm.cdf(B/x0+a-gA*p*x0,0,1))*np.exp(-gA*p*x0*a+(gA*p*x0)**2/2))\n"
   ]
  },
  {
   "cell_type": "code",
   "execution_count": 41,
   "metadata": {},
   "outputs": [
    {
     "name": "stdout",
     "output_type": "stream",
     "text": [
      "Minimum of the problem = 1.305925186223204\n",
      "The point of minimum p* is  1.0\n"
     ]
    },
    {
     "data": {
      "image/png": "[encoded data removed]",
      "text/plain": [
       "<Figure size 432x288 with 1 Axes>"
      ]
     },
     "metadata": {},
     "output_type": "display_data"
    },
    {
     "name": "stdout",
     "output_type": "stream",
     "text": [
      "The value of the optimal penalty p* is  10.0\n",
      "The value of the optimal action a* is  1.0\n"
     ]
    }
   ],
   "source": [
    "# Application\n",
    "optip(s,gA,B,x0,k,taille,function=4)\n",
    "plt.show()\n",
    "\n",
    "\n",
    "p_star4,a_star4 = opti_value(s,gA,B,x0,k,taille,function=4)\n",
    "\n",
    "print(\"The value of the optimal penalty p* is \", p_star4)\n",
    "print(\"The value of the optimal action a* is \", a_star4)"
   ]
  },
  {
   "cell_type": "code",
   "execution_count": 42,
   "metadata": {},
   "outputs": [],
   "source": [
    "def f4_s(k,a,p,x0,B,gA,y):\n",
    "    return y+(k*a**2)/2+(1/gA)*math.log(norm.cdf(B/x0+a)+(1-norm.cdf(B/x0+a-gA*p*x0))*np.exp(-gA*p*(x0*a+B-gA*p*x0**2/2)))"
   ]
  },
  {
   "cell_type": "code",
   "execution_count": 43,
   "metadata": {},
   "outputs": [
    {
     "name": "stdout",
     "output_type": "stream",
     "text": [
      "The value of the optimal wage s* is 30.500000000000092\n"
     ]
    }
   ],
   "source": [
    "s_star4=f4_s(1,a_star4,p_star4,1,1,1,0)\n",
    "print('The value of the optimal wage s* is',s_star4 )"
   ]
  },
  {
   "cell_type": "markdown",
   "metadata": {},
   "source": [
    "# 3) Effect of the parameters"
   ]
  },
  {
   "cell_type": "code",
   "execution_count": 44,
   "metadata": {},
   "outputs": [],
   "source": [
    "def B_effect(s,gA,x0,k,taille1,function,taille2):\n",
    "    P=np.zeros(taille2)\n",
    "    for i in range(taille2):\n",
    "        B = i\n",
    "        P[i]=opti_value(s,gA,B,x0,k,taille1,function)[0]\n",
    "    return P\n",
    "    \n",
    "    "
   ]
  },
  {
   "cell_type": "code",
   "execution_count": 45,
   "metadata": {},
   "outputs": [
    {
     "data": {
      "text/plain": [
       "<matplotlib.legend.Legend at 0x10e14b668>"
      ]
     },
     "execution_count": 45,
     "metadata": {},
     "output_type": "execute_result"
    },
    {
     "data": {
      "image/png": "[encoded data removed]",
      "text/plain": [
       "<Figure size 432x288 with 1 Axes>"
      ]
     },
     "metadata": {},
     "output_type": "display_data"
    }
   ],
   "source": [
    "# effect of the parameter B\n",
    "plt.figure()\n",
    "plt.plot(B_effect(s,gA,x0,k,taille1,2,taille2),label='tax 2')\n",
    "\n",
    "plt.plot(B_effect(s,gA,x0,k,taille1,3,taille2),label='tax 3')\n",
    "\n",
    "plt.plot(B_effect(s,gA,x0,k,taille1,4,taille2),label='tax 4')\n",
    "xlabel(\"B\")\n",
    "ylabel(\"penalty p\")\n",
    "plt.legend()\n",
    "#plt.show()"
   ]
  },
  {
   "cell_type": "markdown",
   "metadata": {},
   "source": [
    "The government has more increasing difficulty as B becomes larger. "
   ]
  },
  {
   "cell_type": "code",
   "execution_count": 46,
   "metadata": {},
   "outputs": [],
   "source": [
    "def gA_effect(s,B,x0,k,taille1,function,taille2):\n",
    "    P=np.zeros(taille2)\n",
    "    for i in range(taille2):\n",
    "        gA = i\n",
    "        P[i]=optip(s,gA,B,x0,k,taille1,function)\n",
    "    plt.plot(P)"
   ]
  },
  {
   "cell_type": "markdown",
   "metadata": {},
   "source": [
    "# 4) Final results\n",
    "For each tax, we compute the value of the company's problem and of the government's problem. The carbon emissions at time $t$=1 is also computed.\n"
   ]
  },
  {
   "cell_type": "code",
   "execution_count": 47,
   "metadata": {},
   "outputs": [],
   "source": [
    "# this function returns the carbon emission at time t=0 and at time t=1 (after the actions taken by the company)\n",
    "def emission (a_star,x0):\n",
    "    \n",
    "    return np.exp(x0), np.exp(-x0*a_star + (x0**2)/2)"
   ]
  },
  {
   "cell_type": "markdown",
   "metadata": {},
   "source": [
    "Therfore, we compute these values when the company does nothing (action $a$=0), the government does not pay (salary $s$=0) and does not penalize (penalty $p$=0)"
   ]
  },
  {
   "cell_type": "markdown",
   "metadata": {},
   "source": [
    "## 4.1) First penalty"
   ]
  },
  {
   "cell_type": "code",
   "execution_count": 48,
   "metadata": {},
   "outputs": [],
   "source": [
    "# value of agent problem\n",
    "def agent_pb1(a,p,s,gA,x0,B,k):\n",
    "    return -np.exp(-gA*(s-k*a**2/2+p*x0*a+p*B))*np.exp((gA*p*x0)**2/2)"
   ]
  },
  {
   "cell_type": "code",
   "execution_count": 49,
   "metadata": {},
   "outputs": [],
   "source": [
    "def princ_pb1(a,p,s,gA,x0,B,k):\n",
    "    return -(np.exp(-a*x0+x0**2/2)+s+p*x0*a+p*B)"
   ]
  },
  {
   "cell_type": "code",
   "execution_count": 50,
   "metadata": {},
   "outputs": [
    {
     "name": "stdout",
     "output_type": "stream",
     "text": [
      "The value of the company's problem is -0.8310404866315889\n"
     ]
    }
   ],
   "source": [
    "v_comp1=agent_pb1(a_star1,p_star1,0,1,1,1,1)\n",
    "print(\"The value of the company's problem is\",v_comp1 )"
   ]
  },
  {
   "cell_type": "code",
   "execution_count": 51,
   "metadata": {},
   "outputs": [
    {
     "data": {
      "text/plain": [
       "-1.0"
      ]
     },
     "execution_count": 51,
     "metadata": {},
     "output_type": "execute_result"
    }
   ],
   "source": [
    "agent_pb1(0,0,0,1,1,1,1)"
   ]
  },
  {
   "cell_type": "code",
   "execution_count": 52,
   "metadata": {},
   "outputs": [
    {
     "name": "stdout",
     "output_type": "stream",
     "text": [
      "The value of the principal's problem is -1.5894843009811295\n"
     ]
    }
   ],
   "source": [
    "v_princ1=princ_pb1(a_star1,p_star1,0,1,1,1,1)\n",
    "print(\"The value of the principal's problem is\",v_princ1 )"
   ]
  },
  {
   "cell_type": "code",
   "execution_count": 53,
   "metadata": {},
   "outputs": [
    {
     "data": {
      "text/plain": [
       "-1.6487212707001282"
      ]
     },
     "execution_count": 53,
     "metadata": {},
     "output_type": "execute_result"
    }
   ],
   "source": [
    "princ_pb1(0,0,0,1,1,1,1)"
   ]
  },
  {
   "cell_type": "code",
   "execution_count": 54,
   "metadata": {},
   "outputs": [
    {
     "data": {
      "text/plain": [
       "(2.718281828459045, 1.370154127122486)"
      ]
     },
     "execution_count": 54,
     "metadata": {},
     "output_type": "execute_result"
    }
   ],
   "source": [
    "emission(a_star1,1) "
   ]
  },
  {
   "cell_type": "markdown",
   "metadata": {},
   "source": [
    "## 4.2) Second penalty"
   ]
  },
  {
   "cell_type": "code",
   "execution_count": 55,
   "metadata": {},
   "outputs": [],
   "source": [
    "def agent_pb2(a,p,s,gA,x0,B,k):\n",
    "    return -np.exp(-gA*(s-k*a**2/2))*(np.exp(gA*p)*(1-norm.cdf(B/x0+a))+norm.cdf(B/x0+a))\n"
   ]
  },
  {
   "cell_type": "code",
   "execution_count": 56,
   "metadata": {},
   "outputs": [],
   "source": [
    "def princ_pb2(a,p,s,gA,x0,B,k):\n",
    "    return -(np.exp(-a*x0+x0**2/2)+s-p*(1-norm.cdf(B/x0+a)))"
   ]
  },
  {
   "cell_type": "code",
   "execution_count": 57,
   "metadata": {},
   "outputs": [
    {
     "name": "stdout",
     "output_type": "stream",
     "text": [
      "The value of the company's problem is -0.9999999999999999\n"
     ]
    }
   ],
   "source": [
    "\n",
    "v_comp2=agent_pb2(a_star2,p_star2,s_star2,1,1,1,1)\n",
    "print(\"The value of the company's problem is\",v_comp2 )"
   ]
  },
  {
   "cell_type": "code",
   "execution_count": 58,
   "metadata": {},
   "outputs": [
    {
     "name": "stdout",
     "output_type": "stream",
     "text": [
      "The value of the principal's problem is -7.097793297201627\n"
     ]
    }
   ],
   "source": [
    "v_princ2=princ_pb2(a_star2,p_star2,s_star2,1,1,1,1)\n",
    "print(\"The value of the principal's problem is\",v_princ2 )"
   ]
  },
  {
   "cell_type": "code",
   "execution_count": 59,
   "metadata": {},
   "outputs": [
    {
     "data": {
      "text/plain": [
       "-1.6487212707001282"
      ]
     },
     "execution_count": 59,
     "metadata": {},
     "output_type": "execute_result"
    }
   ],
   "source": [
    "princ_pb2(0,0,0,1,1,1,1)"
   ]
  },
  {
   "cell_type": "code",
   "execution_count": 60,
   "metadata": {},
   "outputs": [
    {
     "data": {
      "text/plain": [
       "(2.718281828459045, 0.6065306597126334)"
      ]
     },
     "execution_count": 60,
     "metadata": {},
     "output_type": "execute_result"
    }
   ],
   "source": [
    "emission(a_star2,1) "
   ]
  },
  {
   "cell_type": "markdown",
   "metadata": {},
   "source": [
    "## 4.3) Third penalty"
   ]
  },
  {
   "cell_type": "code",
   "execution_count": 61,
   "metadata": {},
   "outputs": [],
   "source": [
    "def agent_pb3(a,p,s,gA,x0,B,k):\n",
    "    return (-np.exp(-gA*(s-k*a**2/2))*(norm.cdf(B/x0+a)+np.exp(-gA*p*x0*(a-gA*p*x0/2))*(1-norm.cdf(B/x0+a-gA*p*x0))))\n"
   ]
  },
  {
   "cell_type": "code",
   "execution_count": 62,
   "metadata": {},
   "outputs": [],
   "source": [
    "def princ_pb3(a,p,s,gA,x0,B,k):\n",
    "    return -(np.exp(-a*x0+x0**2/2)+s+p*x0*a*(1-norm.cdf(B/x0+a))-p*x0*np.exp(-(B/x0+a)**2/2)/np.sqrt(2*pi))"
   ]
  },
  {
   "cell_type": "code",
   "execution_count": 63,
   "metadata": {},
   "outputs": [
    {
     "name": "stdout",
     "output_type": "stream",
     "text": [
      "The value of the company's problem is -0.9999999999999993\n"
     ]
    }
   ],
   "source": [
    "v_comp3=agent_pb3(a_star3,p_star3,s_star3,1,1,1,1)\n",
    "print(\"The value of the company's problem is\",v_comp3 )"
   ]
  },
  {
   "cell_type": "code",
   "execution_count": 64,
   "metadata": {},
   "outputs": [
    {
     "name": "stdout",
     "output_type": "stream",
     "text": [
      "The value of the principal's problem is -40.79412231406254\n"
     ]
    }
   ],
   "source": [
    "v_princ3=princ_pb3(a_star3,p_star3,s_star3,1,1,1,1)\n",
    "print(\"The value of the principal's problem is\",v_princ3 )"
   ]
  },
  {
   "cell_type": "code",
   "execution_count": 65,
   "metadata": {},
   "outputs": [
    {
     "data": {
      "text/plain": [
       "-1.6487212707001282"
      ]
     },
     "execution_count": 65,
     "metadata": {},
     "output_type": "execute_result"
    }
   ],
   "source": [
    "princ_pb3(0,0,0,1,1,1,1)"
   ]
  },
  {
   "cell_type": "code",
   "execution_count": 66,
   "metadata": {},
   "outputs": [
    {
     "data": {
      "text/plain": [
       "(2.718281828459045, 0.6065306597126334)"
      ]
     },
     "execution_count": 66,
     "metadata": {},
     "output_type": "execute_result"
    }
   ],
   "source": [
    "emission(a_star3,1) "
   ]
  },
  {
   "cell_type": "markdown",
   "metadata": {},
   "source": [
    "## 4.4) Fourth penalty"
   ]
  },
  {
   "cell_type": "code",
   "execution_count": 67,
   "metadata": {},
   "outputs": [],
   "source": [
    "def agent_pb4(a,p,s,gA,x0,B,k):\n",
    "    return (-np.exp(-gA*(s-k*a**2/2))*(norm.cdf(B/x0+a)+np.exp(-gA*p*(x0*a+B-gA*p*x0**2/2))*(1-norm.cdf(B/x0+a-gA*p*x0))))\n"
   ]
  },
  {
   "cell_type": "code",
   "execution_count": 68,
   "metadata": {},
   "outputs": [],
   "source": [
    "def princ_pb4(a,p,s,gA,x0,B,k):\n",
    "    return -(np.exp(-a*x0+x0**2/2)+s-p*(x0*np.exp(-(B/x0+a)**2/2)/np.sqrt(2*pi)-(x0*a-B)*(1-norm.cdf(B/x0+a))))"
   ]
  },
  {
   "cell_type": "code",
   "execution_count": 69,
   "metadata": {},
   "outputs": [
    {
     "name": "stdout",
     "output_type": "stream",
     "text": [
      "The value of the company's problem is -0.9999999999999983\n"
     ]
    }
   ],
   "source": [
    "v_comp4=agent_pb4(a_star4,p_star4,s_star4,1,1,1,1)\n",
    "print(\"The value of the company's problem is\",v_comp4 )"
   ]
  },
  {
   "cell_type": "code",
   "execution_count": 70,
   "metadata": {},
   "outputs": [
    {
     "name": "stdout",
     "output_type": "stream",
     "text": [
      "The value of the principal's problem is -30.566620994580845\n"
     ]
    }
   ],
   "source": [
    "v_princ4=princ_pb4(a_star4,p_star4,s_star4,1,1,1,1)\n",
    "print(\"The value of the principal's problem is\",v_princ4 )"
   ]
  },
  {
   "cell_type": "code",
   "execution_count": 71,
   "metadata": {},
   "outputs": [
    {
     "data": {
      "text/plain": [
       "-1.6487212707001282"
      ]
     },
     "execution_count": 71,
     "metadata": {},
     "output_type": "execute_result"
    }
   ],
   "source": [
    "princ_pb4(0,0,0,1,1,1,1)"
   ]
  },
  {
   "cell_type": "code",
   "execution_count": 72,
   "metadata": {},
   "outputs": [
    {
     "data": {
      "text/plain": [
       "(2.718281828459045, 0.6065306597126334)"
      ]
     },
     "execution_count": 72,
     "metadata": {},
     "output_type": "execute_result"
    }
   ],
   "source": [
    "emission(a_star4,1) "
   ]
  },
  {
   "cell_type": "markdown",
   "metadata": {},
   "source": [
    "# Third penalty with the principal's utility function"
   ]
  },
  {
   "cell_type": "markdown",
   "metadata": {},
   "source": [
    "In this section, we assume that the principal has an exponential utility function, and test this on the third policy. "
   ]
  },
  {
   "cell_type": "code",
   "execution_count": 73,
   "metadata": {},
   "outputs": [],
   "source": [
    "def Up (x,gP):\n",
    "    return -exp(-gP*x)"
   ]
  },
  {
   "cell_type": "code",
   "execution_count": 74,
   "metadata": {},
   "outputs": [],
   "source": [
    "def f3_p_ut (a,s,gA,B,x0,p,k,gP):\n",
    "    return Up(np.exp(-x0*a + x0**2/2)+s+p*x0*a*(1-norm.cdf(B/x0+a,0,1))-p*x0*(1/np.sqrt(2*math.pi))*np.exp(-0.5*(B/x0+a)**2),gP)"
   ]
  },
  {
   "cell_type": "code",
   "execution_count": 75,
   "metadata": {},
   "outputs": [],
   "source": [
    "def f3_p_ut (a,s,gA,B,x0,p,k,gP):\n",
    "    return -np.exp(-gP*(np.exp(-x0*a + x0**2/2)+s+p*x0*a*(1-norm.cdf(B/x0+a,0,1))-p*x0*(1/np.sqrt(2*math.pi))*np.exp(-0.5*(B/x0+a)**2)))"
   ]
  },
  {
   "cell_type": "code",
   "execution_count": 76,
   "metadata": {},
   "outputs": [
    {
     "name": "stdout",
     "output_type": "stream",
     "text": [
      "Minimum of the problem = -8.592955801803117e-05\n",
      "The point of minimum p* is  1.0\n"
     ]
    },
    {
     "data": {
      "image/png": "[encoded data removed]",
      "text/plain": [
       "<Figure size 432x288 with 1 Axes>"
      ]
     },
     "metadata": {},
     "output_type": "display_data"
    }
   ],
   "source": [
    "s=0\n",
    "gA=1\n",
    "x0=1\n",
    "taille = 1000\n",
    "B=1\n",
    "k=1\n",
    "function = 5\n",
    "gP = 10\n",
    "plt.show()\n",
    "optip(s,gA,B,x0,k,taille,function,gP)\n"
   ]
  }
 ],
 "metadata": {
  "kernelspec": {
   "display_name": "Python 3",
   "language": "python",
   "name": "python3"
  },
  "language_info": {
   "codemirror_mode": {
    "name": "ipython",
    "version": 3
   },
   "file_extension": ".py",
   "mimetype": "text/x-python",
   "name": "python",
   "nbconvert_exporter": "python",
   "pygments_lexer": "ipython3",
   "version": "3.6.5"
  }
 },
 "nbformat": 4,
 "nbformat_minor": 2
}
